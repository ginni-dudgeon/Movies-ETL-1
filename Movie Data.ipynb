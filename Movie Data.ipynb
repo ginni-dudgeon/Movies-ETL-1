{
 "cells": [
  {
   "cell_type": "code",
   "execution_count": 1,
   "id": "2d155f25",
   "metadata": {},
   "outputs": [],
   "source": [
    "import json\n",
    "import pandas as pd\n",
    "import numpy as np\n",
    "import re"
   ]
  },
  {
   "cell_type": "code",
   "execution_count": 2,
   "id": "a5694c82",
   "metadata": {},
   "outputs": [],
   "source": [
    "file_dir = '/Users/ginni/Documents/BootCamp/Movies-ETL-1'"
   ]
  },
  {
   "cell_type": "code",
   "execution_count": 3,
   "id": "eb7c0cfa",
   "metadata": {},
   "outputs": [
    {
     "data": {
      "text/plain": [
       "'/Users/ginni/Documents/BootCamp/Movies-ETL-1/wikipedia-movies.json'"
      ]
     },
     "execution_count": 3,
     "metadata": {},
     "output_type": "execute_result"
    }
   ],
   "source": [
    "f'{file_dir}/wikipedia-movies.json'"
   ]
  },
  {
   "cell_type": "code",
   "execution_count": 5,
   "id": "55262d35",
   "metadata": {},
   "outputs": [],
   "source": [
    "with open(f'{file_dir}/wikipedia-movies.json', mode='r') as file:\n",
    "    wiki_movies_raw = json.load(file)"
   ]
  },
  {
   "cell_type": "code",
   "execution_count": null,
   "id": "028e863c",
   "metadata": {},
   "outputs": [],
   "source": []
  }
 ],
 "metadata": {
  "kernelspec": {
   "display_name": "Python 3 (ipykernel)",
   "language": "python",
   "name": "python3"
  },
  "language_info": {
   "codemirror_mode": {
    "name": "ipython",
    "version": 3
   },
   "file_extension": ".py",
   "mimetype": "text/x-python",
   "name": "python",
   "nbconvert_exporter": "python",
   "pygments_lexer": "ipython3",
   "version": "3.9.12"
  }
 },
 "nbformat": 4,
 "nbformat_minor": 5
}
